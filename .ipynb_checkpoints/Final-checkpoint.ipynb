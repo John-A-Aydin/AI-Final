{
 "cells": [
  {
   "cell_type": "code",
   "execution_count": 2,
   "id": "e6263606-454d-4c37-996d-74d0305b7dea",
   "metadata": {},
   "outputs": [],
   "source": [
    "#!pip install -U pandas\n",
    "#!pip install -U scikit-learn\n",
    "#!pip install -U matplotlib\n",
    "#!pip install tensorflow\n",
    "#!pip install -U transformers\n",
    "#!pip install -U tf-keras\n",
    "#!pip install -U focal-loss\n",
    "#!pip install -U nltk"
   ]
  },
  {
   "cell_type": "code",
   "execution_count": 47,
   "id": "936bcc03-604a-4f90-b925-6abcf379fccf",
   "metadata": {},
   "outputs": [],
   "source": [
    "import pandas as pd\n",
    "from sklearn.model_selection import train_test_split\n",
    "import matplotlib.pyplot as plt\n",
    "from bs4 import BeautifulSoup\n",
    "from transformers import AutoTokenizer, TFDistilBertModel\n",
    "import numpy as np\n",
    "from tensorflow.keras.preprocessing.text import Tokenizer\n",
    "import tensorflow as tf\n",
    "from tensorflow.keras.layers import Input, GlobalAveragePooling1D, Dropout, Dense\n",
    "import re,string,unicodedata\n",
    "import nltk\n",
    "#nltk.download('stopwords')\n",
    "from nltk.corpus import stopwords\n",
    "from nltk.stem import WordNetLemmatizer\n",
    "from tensorflow.keras.models import Model\n",
    "from tensorflow.keras.models import load_model\n",
    "from sklearn.metrics import accuracy_score, confusion_matrix, ConfusionMatrixDisplay, classification_report\n",
    "import seaborn as sns\n",
    "from sklearn.feature_extraction.text import CountVectorizer, TfidfVectorizer\n",
    "from sklearn.ensemble import RandomForestClassifier"
   ]
  },
  {
   "cell_type": "code",
   "execution_count": 4,
   "id": "f7981d78-5703-4156-804c-4ce5e8c783d7",
   "metadata": {},
   "outputs": [
    {
     "data": {
      "text/html": [
       "<div>\n",
       "<style scoped>\n",
       "    .dataframe tbody tr th:only-of-type {\n",
       "        vertical-align: middle;\n",
       "    }\n",
       "\n",
       "    .dataframe tbody tr th {\n",
       "        vertical-align: top;\n",
       "    }\n",
       "\n",
       "    .dataframe thead th {\n",
       "        text-align: right;\n",
       "    }\n",
       "</style>\n",
       "<table border=\"1\" class=\"dataframe\">\n",
       "  <thead>\n",
       "    <tr style=\"text-align: right;\">\n",
       "      <th></th>\n",
       "      <th>review</th>\n",
       "      <th>sentiment</th>\n",
       "    </tr>\n",
       "  </thead>\n",
       "  <tbody>\n",
       "    <tr>\n",
       "      <th>0</th>\n",
       "      <td>One of the other reviewers has mentioned that ...</td>\n",
       "      <td>positive</td>\n",
       "    </tr>\n",
       "    <tr>\n",
       "      <th>1</th>\n",
       "      <td>A wonderful little production. &lt;br /&gt;&lt;br /&gt;The...</td>\n",
       "      <td>positive</td>\n",
       "    </tr>\n",
       "    <tr>\n",
       "      <th>2</th>\n",
       "      <td>I thought this was a wonderful way to spend ti...</td>\n",
       "      <td>positive</td>\n",
       "    </tr>\n",
       "    <tr>\n",
       "      <th>3</th>\n",
       "      <td>Basically there's a family where a little boy ...</td>\n",
       "      <td>negative</td>\n",
       "    </tr>\n",
       "    <tr>\n",
       "      <th>4</th>\n",
       "      <td>Petter Mattei's \"Love in the Time of Money\" is...</td>\n",
       "      <td>positive</td>\n",
       "    </tr>\n",
       "    <tr>\n",
       "      <th>...</th>\n",
       "      <td>...</td>\n",
       "      <td>...</td>\n",
       "    </tr>\n",
       "    <tr>\n",
       "      <th>49995</th>\n",
       "      <td>I thought this movie did a down right good job...</td>\n",
       "      <td>positive</td>\n",
       "    </tr>\n",
       "    <tr>\n",
       "      <th>49996</th>\n",
       "      <td>Bad plot, bad dialogue, bad acting, idiotic di...</td>\n",
       "      <td>negative</td>\n",
       "    </tr>\n",
       "    <tr>\n",
       "      <th>49997</th>\n",
       "      <td>I am a Catholic taught in parochial elementary...</td>\n",
       "      <td>negative</td>\n",
       "    </tr>\n",
       "    <tr>\n",
       "      <th>49998</th>\n",
       "      <td>I'm going to have to disagree with the previou...</td>\n",
       "      <td>negative</td>\n",
       "    </tr>\n",
       "    <tr>\n",
       "      <th>49999</th>\n",
       "      <td>No one expects the Star Trek movies to be high...</td>\n",
       "      <td>negative</td>\n",
       "    </tr>\n",
       "  </tbody>\n",
       "</table>\n",
       "<p>50000 rows × 2 columns</p>\n",
       "</div>"
      ],
      "text/plain": [
       "                                                  review sentiment\n",
       "0      One of the other reviewers has mentioned that ...  positive\n",
       "1      A wonderful little production. <br /><br />The...  positive\n",
       "2      I thought this was a wonderful way to spend ti...  positive\n",
       "3      Basically there's a family where a little boy ...  negative\n",
       "4      Petter Mattei's \"Love in the Time of Money\" is...  positive\n",
       "...                                                  ...       ...\n",
       "49995  I thought this movie did a down right good job...  positive\n",
       "49996  Bad plot, bad dialogue, bad acting, idiotic di...  negative\n",
       "49997  I am a Catholic taught in parochial elementary...  negative\n",
       "49998  I'm going to have to disagree with the previou...  negative\n",
       "49999  No one expects the Star Trek movies to be high...  negative\n",
       "\n",
       "[50000 rows x 2 columns]"
      ]
     },
     "execution_count": 4,
     "metadata": {},
     "output_type": "execute_result"
    }
   ],
   "source": [
    "df = pd.read_csv('data/IMDB Dataset.csv')\n",
    "df"
   ]
  },
  {
   "cell_type": "code",
   "execution_count": 5,
   "id": "559ef033-4c68-4843-a951-ad3085691456",
   "metadata": {},
   "outputs": [
    {
     "data": {
      "image/png": "[encoded data removed]",
      "text/plain": [
       "<Figure size 640x480 with 1 Axes>"
      ]
     },
     "metadata": {},
     "output_type": "display_data"
    }
   ],
   "source": [
    "df[\"sentiment\"].value_counts(ascending=True).plot.barh()\n",
    "plt.title(\"Frequency of Positive and Negative Sentiment\")\n",
    "plt.show()"
   ]
  },
  {
   "cell_type": "markdown",
   "id": "75a9e82d-ef25-47de-bc42-6bf7f6d4fd26",
   "metadata": {},
   "source": [
    "# Data Cleaning"
   ]
  },
  {
   "cell_type": "markdown",
   "id": "81e2a124-9e93-4023-9f03-cf9f9221f271",
   "metadata": {},
   "source": [
    "### Deleting duplicate rows"
   ]
  },
  {
   "cell_type": "code",
   "execution_count": 6,
   "id": "cd42c80c-d0fb-4183-b158-24796cd28bc3",
   "metadata": {},
   "outputs": [],
   "source": [
    "df.drop_duplicates(inplace = True)"
   ]
  },
  {
   "cell_type": "markdown",
   "id": "7aabb83e-04ff-4d82-b2b6-a878b8ca2b9a",
   "metadata": {},
   "source": [
    "### Removing abbreviations and html"
   ]
  },
  {
   "cell_type": "code",
   "execution_count": 7,
   "id": "397cfeda-502d-45f4-a6c9-5b093d1f19ef",
   "metadata": {},
   "outputs": [],
   "source": [
    "mapping = {\"ain't\": \"is not\", \"aren't\": \"are not\",\"can't\": \"cannot\", \n",
    "           \"'cause\": \"because\", \"could've\": \"could have\", \"couldn't\": \"could not\", \n",
    "           \"didn't\": \"did not\",  \"doesn't\": \"does not\", \"don't\": \"do not\", \"hadn't\": \"had not\", \n",
    "           \"hasn't\": \"has not\", \"haven't\": \"have not\", \"he'd\": \"he would\",\"he'll\": \"he will\", \n",
    "           \"he's\": \"he is\", \"how'd\": \"how did\", \"how'd'y\": \"how do you\", \"how'll\": \"how will\", \n",
    "           \"how's\": \"how is\",  \"I'd\": \"I would\", \"I'd've\": \"I would have\", \"I'll\": \"I will\", \n",
    "           \"I'll've\": \"I will have\",\"I'm\": \"I am\", \"I've\": \"I have\", \"i'd\": \"i would\", \n",
    "           \"i'd've\": \"i would have\", \"i'll\": \"i will\",  \"i'll've\": \"i will have\",\n",
    "           \"i'm\": \"i am\", \"i've\": \"i have\", \"isn't\": \"is not\", \"it'd\": \"it would\", \n",
    "           \"it'd've\": \"it would have\", \"it'll\": \"it will\", \"it'll've\": \"it will have\",\n",
    "           \"it's\": \"it is\", \"let's\": \"let us\", \"ma'am\": \"madam\", \"mayn't\": \"may not\", \n",
    "           \"might've\": \"might have\",\"mightn't\": \"might not\",\"mightn't've\": \"might not have\", \n",
    "           \"must've\": \"must have\", \"mustn't\": \"must not\", \"mustn't've\": \"must not have\", \n",
    "           \"needn't\": \"need not\", \"needn't've\": \"need not have\",\"o'clock\": \"of the clock\", \n",
    "           \"oughtn't\": \"ought not\", \"oughtn't've\": \"ought not have\", \"shan't\": \"shall not\", \n",
    "           \"sha'n't\": \"shall not\", \"shan't've\": \"shall not have\", \"she'd\": \"she would\", \n",
    "           \"she'd've\": \"she would have\", \"she'll\": \"she will\", \"she'll've\": \"she will have\", \n",
    "           \"she's\": \"she is\", \"should've\": \"should have\", \"shouldn't\": \"should not\", \n",
    "           \"shouldn't've\": \"should not have\", \"so've\": \"so have\",\"so's\": \"so as\", \"this's\": \"this is\",\n",
    "           \"that'd\": \"that would\", \"that'd've\": \"that would have\", \"that's\": \"that is\", \n",
    "           \"there'd\": \"there would\", \"there'd've\": \"there would have\", \"there's\": \"there is\", \n",
    "           \"here's\": \"here is\",\"they'd\": \"they would\", \"they'd've\": \"they would have\", \n",
    "           \"they'll\": \"they will\", \"they'll've\": \"they will have\", \"they're\": \"they are\", \n",
    "           \"they've\": \"they have\", \"to've\": \"to have\", \"wasn't\": \"was not\", \"we'd\": \"we would\", \n",
    "           \"we'd've\": \"we would have\", \"we'll\": \"we will\", \"we'll've\": \"we will have\", \n",
    "           \"we're\": \"we are\", \"we've\": \"we have\", \"weren't\": \"were not\", \n",
    "           \"what'll\": \"what will\", \"what'll've\": \"what will have\",\"what're\": \"what are\",  \n",
    "           \"what's\": \"what is\", \"what've\": \"what have\", \"when's\": \"when is\", \"when've\": \"when have\", \n",
    "           \"where'd\": \"where did\", \"where's\": \"where is\", \"where've\": \"where have\", \"who'll\": \"who will\", \n",
    "           \"who'll've\": \"who will have\", \"who's\": \"who is\", \"who've\": \"who have\", \"why's\": \"why is\", \n",
    "           \"why've\": \"why have\", \"will've\": \"will have\", \"won't\": \"will not\", \"won't've\": \"will not have\", \n",
    "           \"would've\": \"would have\", \"wouldn't\": \"would not\", \"wouldn't've\": \"would not have\", \n",
    "           \"y'all\": \"you all\", \"y'all'd\": \"you all would\",\"y'all'd've\": \"you all would have\",\n",
    "           \"y'all're\": \"you all are\",\"y'all've\": \"you all have\",\"you'd\": \"you would\", \n",
    "           \"you'd've\": \"you would have\", \"you'll\": \"you will\", \"you'll've\": \"you will have\", \n",
    "           \"you're\": \"you are\", \"you've\": \"you have\" }\n",
    "\n",
    "stop = stopwords.words('english')\n",
    "wl = WordNetLemmatizer()\n",
    "\n",
    "#function to clean data\n",
    "def clean_text(text,lemmatize = True):\n",
    "    soup = BeautifulSoup(text, \"html.parser\") #remove html tags\n",
    "    text = soup.get_text()\n",
    "    text = ' '.join([mapping[t] if t in mapping else t for t in text.split(\" \")]) #expanding chatwords and contracts clearing contractions\n",
    "    emoji_clean= re.compile(\"[\"\n",
    "                           u\"\\U0001F600-\\U0001F64F\"  # emoticons\n",
    "                           u\"\\U0001F300-\\U0001F5FF\"  # symbols & pictographs\n",
    "                           u\"\\U0001F680-\\U0001F6FF\"  # transport & map symbols\n",
    "                           u\"\\U0001F1E0-\\U0001F1FF\"  # flags (iOS)\n",
    "                           u\"\\U00002702-\\U000027B0\"\n",
    "                           u\"\\U000024C2-\\U0001F251\"\n",
    "                           \"]+\", flags=re.UNICODE)\n",
    "    text = emoji_clean.sub(r'',text)\n",
    "    text = re.sub(r'\\.(?=\\S)', '. ',text) #add space after full stop\n",
    "    text = re.sub(r'http\\S+', '', text) #remove urls\n",
    "    text = \"\".join([word.lower() for word in text if word not in string.punctuation]) #remove punctuation\n",
    "    #tokens = re.split('\\W+', text) #create tokens\n",
    "    if lemmatize:\n",
    "        text = \" \".join([wl.lemmatize(word) for word in text.split() if word not in stop and word.isalpha()]) #lemmatize\n",
    "    else:\n",
    "        text = \" \".join([word for word in text.split() if word not in stop and word.isalpha()]) \n",
    "    return text"
   ]
  },
  {
   "cell_type": "markdown",
   "id": "cce365fa-e057-40fb-83b8-35fd8367d2d7",
   "metadata": {},
   "source": [
    "# DistilBERT"
   ]
  },
  {
   "cell_type": "code",
   "execution_count": 8,
   "id": "5ca91517-f596-4b5b-ae36-28619e70bf98",
   "metadata": {},
   "outputs": [
    {
     "name": "stderr",
     "output_type": "stream",
     "text": [
      "/tmp/ipykernel_4848/3663773812.py:43: MarkupResemblesLocatorWarning: The input looks more like a filename than markup. You may want to open this file and pass the filehandle into Beautiful Soup.\n",
      "  soup = BeautifulSoup(text, \"html.parser\") #remove html tags\n"
     ]
    }
   ],
   "source": [
    "# Convert sentiment to numerical value\n",
    "df['sentiment'] = (df['sentiment'] == 'positive').astype(int)\n",
    "\n",
    "# Preprocess text\n",
    "df['review'] = df['review'].apply(clean_text, lemmatize=False)\n",
    "\n",
    "# Split into train and test\n",
    "train, test = train_test_split(df, test_size=0.2, random_state=42)\n",
    "train, val = train_test_split(train, test_size=0.2, random_state=42)"
   ]
  },
  {
   "cell_type": "code",
   "execution_count": 9,
   "id": "586ce3e0-1185-4069-9f17-3926a267d50b",
   "metadata": {},
   "outputs": [],
   "source": [
    "# Prepare tokenizer\n",
    "tokenizer = AutoTokenizer.from_pretrained('distilbert-base-uncased')"
   ]
  },
  {
   "cell_type": "code",
   "execution_count": 10,
   "id": "0dcfe149-235c-4dbf-b84f-c528b6a0e399",
   "metadata": {},
   "outputs": [
    {
     "name": "stdout",
     "output_type": "stream",
     "text": [
      "Total samples: 49582\n",
      "Training samples: 31732\n",
      "Validation samples: 7933\n",
      "Test samples: 9917\n"
     ]
    }
   ],
   "source": [
    "print(\"Total samples:\", len(df))\n",
    "print(\"Training samples:\", len(train))\n",
    "print(\"Validation samples:\", len(val))\n",
    "print(\"Test samples:\", len(test))"
   ]
  },
  {
   "cell_type": "code",
   "execution_count": 11,
   "id": "4d0c1902-14cd-4657-97bd-054d2d1702ce",
   "metadata": {},
   "outputs": [],
   "source": [
    "# Was running out of gpu memory (only have 3Gb) so this is hard-coded \n",
    "max_seq_len = 128"
   ]
  },
  {
   "cell_type": "code",
   "execution_count": 12,
   "id": "4c1d1d9b-ef86-4f2e-a1e9-c60bd4118bbe",
   "metadata": {},
   "outputs": [
    {
     "name": "stderr",
     "output_type": "stream",
     "text": [
      "I0000 00:00:1733161288.659105    4848 gpu_device.cc:2022] Created device /job:localhost/replica:0/task:0/device:GPU:0 with 2070 MB memory:  -> device: 0, name: NVIDIA GeForce GTX 1060 3GB, pci bus id: 0000:01:00.0, compute capability: 6.1\n"
     ]
    }
   ],
   "source": [
    "def tokenize_texts(texts, max_length=128):\n",
    "    text_list = texts.tolist()\n",
    "    \n",
    "    encodings = tokenizer(\n",
    "        text_list, \n",
    "        max_length=max_length, \n",
    "        truncation=True, \n",
    "        padding='max_length', \n",
    "        return_tensors='tf'\n",
    "    )\n",
    "    \n",
    "    return encodings['input_ids'], encodings['attention_mask']\n",
    "\n",
    "# Tokenize data\n",
    "Xtrain_ids, Xtrain_mask = tokenize_texts(train['review'], max_seq_len)\n",
    "ytrain_array = train['sentiment'].values\n",
    "\n",
    "Xval_ids, Xval_mask = tokenize_texts(val['review'], max_seq_len)\n",
    "yval_array = val['sentiment'].values\n",
    "\n",
    "Xtest_ids, Xtest_mask = tokenize_texts(test['review'], max_seq_len)\n",
    "ytest_array = test['sentiment'].values"
   ]
  },
  {
   "cell_type": "code",
   "execution_count": 13,
   "id": "bb40bdc3-4c7f-4a5f-bff2-19bf1ed157b3",
   "metadata": {},
   "outputs": [],
   "source": [
    "def create_tf_dataset(input_ids, attention_mask, labels, batch_size=32):\n",
    "    return tf.data.Dataset.from_tensor_slices((\n",
    "        {\n",
    "            'input_ids': tf.convert_to_tensor(input_ids, dtype=tf.int32), \n",
    "            'attention_mask': tf.convert_to_tensor(attention_mask, dtype=tf.int32)\n",
    "        },\n",
    "        labels\n",
    "    )).batch(batch_size)\n",
    "\n",
    "# Create datasets\n",
    "train_dataset = create_tf_dataset(Xtrain_ids, Xtrain_mask, ytrain_array)\n",
    "val_dataset = create_tf_dataset(Xval_ids, Xval_mask, yval_array)\n",
    "test_dataset = create_tf_dataset(Xtest_ids, Xtest_mask, ytest_array)"
   ]
  },
  {
   "cell_type": "code",
   "execution_count": 14,
   "id": "7d7bfd5e-dada-41e9-91f5-14b1eb65ab70",
   "metadata": {},
   "outputs": [],
   "source": [
    "def create_bert_model(transformer, max_len):\n",
    "    input_ids_layer = Input(shape=(max_len,), dtype='int32', name='input_ids')\n",
    "    attention_mask_layer = Input(shape=(max_len,), dtype='int32', name='attention_mask')\n",
    "    \n",
    "    transformer.trainable = False\n",
    "\n",
    "    def transformer_model(inputs):\n",
    "        input_ids, attention_mask = inputs\n",
    "        return transformer(input_ids=input_ids, attention_mask=attention_mask)[0]\n",
    "    \n",
    "    # I have no idea what's going on here. When I switched from my\n",
    "    # laptop to my computer, I started getting a type error.\n",
    "    # I couldnt find anything online about the type error I was getting,\n",
    "    # so I asked claude and got this ...\n",
    "    bert_outputs = tf.keras.layers.Lambda(\n",
    "        transformer_model, \n",
    "        output_shape=(max_len, transformer.config.hidden_size)\n",
    "    )([input_ids_layer, attention_mask_layer])\n",
    "    \n",
    "    \n",
    "    x = GlobalAveragePooling1D()(bert_outputs)\n",
    "    x = Dropout(0.1)(x)\n",
    "    \n",
    "    output = Dense(1, activation='sigmoid')(x)\n",
    "    \n",
    "    model = Model(\n",
    "        inputs={'input_ids': input_ids_layer, 'attention_mask': attention_mask_layer}, \n",
    "        outputs=output\n",
    "    )\n",
    "    \n",
    "    model.compile(\n",
    "        optimizer='adam', \n",
    "        loss='binary_crossentropy', \n",
    "        metrics=['accuracy']\n",
    "    )\n",
    "    \n",
    "    return model"
   ]
  },
  {
   "cell_type": "code",
   "execution_count": 15,
   "id": "a66ba8a4-a6e9-4e02-913a-ab35aa75df35",
   "metadata": {},
   "outputs": [
    {
     "name": "stderr",
     "output_type": "stream",
     "text": [
      "Some weights of the PyTorch model were not used when initializing the TF 2.0 model TFDistilBertModel: ['vocab_projector.bias', 'vocab_transform.weight', 'vocab_layer_norm.bias', 'vocab_transform.bias', 'vocab_layer_norm.weight']\n",
      "- This IS expected if you are initializing TFDistilBertModel from a PyTorch model trained on another task or with another architecture (e.g. initializing a TFBertForSequenceClassification model from a BertForPreTraining model).\n",
      "- This IS NOT expected if you are initializing TFDistilBertModel from a PyTorch model that you expect to be exactly identical (e.g. initializing a TFBertForSequenceClassification model from a BertForSequenceClassification model).\n",
      "All the weights of TFDistilBertModel were initialized from the PyTorch model.\n",
      "If your task is similar to the task the model of the checkpoint was trained on, you can already use TFDistilBertModel for predictions without further training.\n"
     ]
    }
   ],
   "source": [
    "# Load pre-trained DistilBERT model\n",
    "transformer = TFDistilBertModel.from_pretrained('distilbert-base-uncased')"
   ]
  },
  {
   "cell_type": "code",
   "execution_count": 28,
   "id": "e6d4c4be-80d5-4547-93f5-f5f2f3dd4924",
   "metadata": {},
   "outputs": [],
   "source": [
    "model = create_bert_model(transformer, max_seq_len)"
   ]
  },
  {
   "cell_type": "code",
   "execution_count": 29,
   "id": "07958c60-8a30-4905-8d40-1a14884b96f9",
   "metadata": {},
   "outputs": [
    {
     "name": "stderr",
     "output_type": "stream",
     "text": [
      "W0000 00:00:1733162930.565125    5023 assert_op.cc:38] Ignoring Assert operator functional_1_1/lambda_1_1/tf_distil_bert_model/distilbert/embeddings/assert_less/Assert/Assert\n"
     ]
    },
    {
     "name": "stdout",
     "output_type": "stream",
     "text": [
      "\u001b[1m309/310\u001b[0m \u001b[32m━━━━━━━━━━━━━━━━━━━\u001b[0m\u001b[37m━\u001b[0m \u001b[1m0s\u001b[0m 123ms/step"
     ]
    },
    {
     "name": "stderr",
     "output_type": "stream",
     "text": [
      "W0000 00:00:1733162970.169405    5024 assert_op.cc:38] Ignoring Assert operator functional_1_1/lambda_1_1/tf_distil_bert_model/distilbert/embeddings/assert_less/Assert/Assert\n"
     ]
    },
    {
     "name": "stdout",
     "output_type": "stream",
     "text": [
      "\u001b[1m310/310\u001b[0m \u001b[32m━━━━━━━━━━━━━━━━━━━━\u001b[0m\u001b[37m\u001b[0m \u001b[1m41s\u001b[0m 129ms/step\n"
     ]
    },
    {
     "data": {
      "image/png": "[encoded data removed]",
      "text/plain": [
       "<Figure size 640x480 with 2 Axes>"
      ]
     },
     "metadata": {},
     "output_type": "display_data"
    }
   ],
   "source": [
    "ypred = model.predict(test_dataset)\n",
    "ypred = ypred>0.5\n",
    "#Get the confusion matrix\n",
    "cf_matrix = confusion_matrix(ytest_array, ypred)\n",
    "sns.heatmap(cf_matrix,annot = True,fmt ='g', cmap='Blues')\n",
    "plt.xlabel('Predicted label')\n",
    "plt.ylabel('True label')\n",
    "plt.show()"
   ]
  },
  {
   "cell_type": "markdown",
   "id": "84c7ce83-da2c-4751-9c96-d260f5cdea83",
   "metadata": {},
   "source": [
    "# Fine-tuning DistilBERT"
   ]
  },
  {
   "cell_type": "code",
   "execution_count": 17,
   "id": "303fd36e-517b-4292-90a6-ee4849818f2d",
   "metadata": {},
   "outputs": [
    {
     "name": "stdout",
     "output_type": "stream",
     "text": [
      "Epoch 1/6\n"
     ]
    },
    {
     "name": "stderr",
     "output_type": "stream",
     "text": [
      "WARNING: All log messages before absl::InitializeLog() is called are written to STDERR\n",
      "I0000 00:00:1733161297.312096    5026 service.cc:148] XLA service 0x75c86c031140 initialized for platform CUDA (this does not guarantee that XLA will be used). Devices:\n",
      "I0000 00:00:1733161297.312389    5026 service.cc:156]   StreamExecutor device (0): NVIDIA GeForce GTX 1060 3GB, Compute Capability 6.1\n",
      "2024-12-02 12:41:37.506320: I tensorflow/compiler/mlir/tensorflow/utils/dump_mlir_util.cc:268] disabling MLIR crash reproducer, set env var `MLIR_CRASH_REPRODUCER_DIRECTORY` to enable.\n",
      "W0000 00:00:1733161297.524668    5026 assert_op.cc:38] Ignoring Assert operator functional_1/lambda_1/tf_distil_bert_model/distilbert/embeddings/assert_less/Assert/Assert\n",
      "I0000 00:00:1733161298.288905    5026 cuda_dnn.cc:529] Loaded cuDNN version 90300\n",
      "I0000 00:00:1733161300.176641    5026 device_compiler.h:188] Compiled cluster using XLA!  This line is logged at most once for the lifetime of the process.\n"
     ]
    },
    {
     "name": "stdout",
     "output_type": "stream",
     "text": [
      "\u001b[1m989/992\u001b[0m \u001b[32m━━━━━━━━━━━━━━━━━━━\u001b[0m\u001b[37m━\u001b[0m \u001b[1m0s\u001b[0m 129ms/step - accuracy: 0.7214 - loss: 0.5726"
     ]
    },
    {
     "name": "stderr",
     "output_type": "stream",
     "text": [
      "W0000 00:00:1733161427.765078    5026 assert_op.cc:38] Ignoring Assert operator functional_1/lambda_1/tf_distil_bert_model/distilbert/embeddings/assert_less/Assert/Assert\n"
     ]
    },
    {
     "name": "stdout",
     "output_type": "stream",
     "text": [
      "\u001b[1m992/992\u001b[0m \u001b[32m━━━━━━━━━━━━━━━━━━━━\u001b[0m\u001b[37m\u001b[0m \u001b[1m0s\u001b[0m 131ms/step - accuracy: 0.7215 - loss: 0.5726"
     ]
    },
    {
     "name": "stderr",
     "output_type": "stream",
     "text": [
      "W0000 00:00:1733161431.145420    5023 assert_op.cc:38] Ignoring Assert operator functional_1/lambda_1/tf_distil_bert_model/distilbert/embeddings/assert_less/Assert/Assert\n",
      "W0000 00:00:1733161462.878135    5027 assert_op.cc:38] Ignoring Assert operator functional_1/lambda_1/tf_distil_bert_model/distilbert/embeddings/assert_less/Assert/Assert\n"
     ]
    },
    {
     "name": "stdout",
     "output_type": "stream",
     "text": [
      "\u001b[1m992/992\u001b[0m \u001b[32m━━━━━━━━━━━━━━━━━━━━\u001b[0m\u001b[37m\u001b[0m \u001b[1m171s\u001b[0m 166ms/step - accuracy: 0.7215 - loss: 0.5725 - val_accuracy: 0.7870 - val_loss: 0.4654\n",
      "Epoch 2/6\n",
      "\u001b[1m992/992\u001b[0m \u001b[32m━━━━━━━━━━━━━━━━━━━━\u001b[0m\u001b[37m\u001b[0m \u001b[1m161s\u001b[0m 162ms/step - accuracy: 0.7926 - loss: 0.4544 - val_accuracy: 0.7973 - val_loss: 0.4385\n",
      "Epoch 3/6\n",
      "\u001b[1m992/992\u001b[0m \u001b[32m━━━━━━━━━━━━━━━━━━━━\u001b[0m\u001b[37m\u001b[0m \u001b[1m162s\u001b[0m 164ms/step - accuracy: 0.7994 - loss: 0.4346 - val_accuracy: 0.8026 - val_loss: 0.4278\n",
      "Epoch 4/6\n",
      "\u001b[1m992/992\u001b[0m \u001b[32m━━━━━━━━━━━━━━━━━━━━\u001b[0m\u001b[37m\u001b[0m \u001b[1m162s\u001b[0m 163ms/step - accuracy: 0.8068 - loss: 0.4263 - val_accuracy: 0.8057 - val_loss: 0.4226\n",
      "Epoch 5/6\n",
      "\u001b[1m992/992\u001b[0m \u001b[32m━━━━━━━━━━━━━━━━━━━━\u001b[0m\u001b[37m\u001b[0m \u001b[1m162s\u001b[0m 163ms/step - accuracy: 0.8062 - loss: 0.4208 - val_accuracy: 0.8088 - val_loss: 0.4168\n",
      "Epoch 6/6\n",
      "\u001b[1m992/992\u001b[0m \u001b[32m━━━━━━━━━━━━━━━━━━━━\u001b[0m\u001b[37m\u001b[0m \u001b[1m161s\u001b[0m 162ms/step - accuracy: 0.8090 - loss: 0.4199 - val_accuracy: 0.8117 - val_loss: 0.4127\n"
     ]
    }
   ],
   "source": [
    "epochs = 6\n",
    "history = model.fit(\n",
    "    train_dataset, \n",
    "    validation_data=val_dataset, \n",
    "    epochs=epochs\n",
    ")"
   ]
  },
  {
   "cell_type": "code",
   "execution_count": 18,
   "id": "f684e21e-7059-42c4-b1a4-11e921259255",
   "metadata": {},
   "outputs": [],
   "source": [
    "\n",
    "#model.save('./checkpoints/fine_tuned.h5')\n",
    "\n",
    "#model = load_model('./checkpoints/fine_tuned.h5')"
   ]
  },
  {
   "cell_type": "code",
   "execution_count": 19,
   "id": "f59ed743-5f1f-4446-b8bb-042976722cd0",
   "metadata": {},
   "outputs": [],
   "source": [
    "def plotLearningCurve(history,epochs):\n",
    "  epochRange = range(1,epochs+1)\n",
    "  fig , ax = plt.subplots(1,2,figsize = (10,5))\n",
    "  \n",
    "  ax[0].plot(epochRange,history.history['accuracy'],label = 'Training Accuracy')\n",
    "  ax[0].plot(epochRange,history.history['val_accuracy'],label = 'Validation Accuracy')\n",
    "  ax[0].set_title('Training and Validation accuracy')\n",
    "  ax[0].set_xlabel('Epoch')\n",
    "  ax[0].set_ylabel('Accuracy')\n",
    "  ax[0].legend()\n",
    "  ax[1].plot(epochRange,history.history['loss'],label = 'Training Loss')\n",
    "  ax[1].plot(epochRange,history.history['val_loss'],label = 'Validation Loss')\n",
    "  ax[1].set_title('Training and Validation loss')\n",
    "  ax[1].set_xlabel('Epoch')\n",
    "  ax[1].set_ylabel('Loss')\n",
    "  ax[1].legend()\n",
    "  fig.tight_layout()\n",
    "  plt.show()"
   ]
  },
  {
   "cell_type": "code",
   "execution_count": 20,
   "id": "2b0a722e-e261-4c8d-98bf-d3cf0b8e58a5",
   "metadata": {},
   "outputs": [
    {
     "data": {
      "image/png": "[encoded data removed]",
      "text/plain": [
       "<Figure size 1000x500 with 2 Axes>"
      ]
     },
     "metadata": {},
     "output_type": "display_data"
    }
   ],
   "source": [
    "plotLearningCurve(history, epochs)"
   ]
  },
  {
   "cell_type": "markdown",
   "id": "73ba8910-51e8-4500-95a2-c014e9c9f173",
   "metadata": {},
   "source": [
    "The graphs show that there is very minimal overfitting since the curves for loss and accuracy are both better in validation than training.\n",
    "\n",
    "This may indicate that the model is underfitting, but the results are so close that they are negligible."
   ]
  },
  {
   "cell_type": "code",
   "execution_count": null,
   "id": "6cc5089d-19fd-417c-a674-d3df6564fa60",
   "metadata": {},
   "outputs": [
    {
     "name": "stdout",
     "output_type": "stream",
     "text": [
      "\u001b[1m 91/310\u001b[0m \u001b[32m━━━━━\u001b[0m\u001b[37m━━━━━━━━━━━━━━━\u001b[0m \u001b[1m26s\u001b[0m 121ms/step"
     ]
    }
   ],
   "source": [
    "ypred = model.predict(test_dataset)\n",
    "ypred = ypred>0.5\n",
    "#Get the confusion matrix\n",
    "cf_matrix = confusion_matrix(ytest_array, ypred)\n",
    "sns.heatmap(cf_matrix,annot = True,fmt ='g', cmap='Blues')\n",
    "plt.xlabel('Predicted label')\n",
    "plt.ylabel('True label')\n",
    "plt.show()"
   ]
  },
  {
   "cell_type": "code",
   "execution_count": 51,
   "id": "ce834b4b-e720-48ed-8227-178f5a2e280a",
   "metadata": {},
   "outputs": [
    {
     "name": "stdout",
     "output_type": "stream",
     "text": [
      "              precision    recall  f1-score   support\n",
      "\n",
      "           0       0.27      0.03      0.06      4939\n",
      "           1       0.49      0.91      0.63      4978\n",
      "\n",
      "    accuracy                           0.47      9917\n",
      "   macro avg       0.38      0.47      0.35      9917\n",
      "weighted avg       0.38      0.47      0.35      9917\n",
      "\n"
     ]
    }
   ],
   "source": [
    "rf_report = classification_report(ytest_array, ypred)\n",
    "print(rf_report)"
   ]
  },
  {
   "cell_type": "markdown",
   "id": "7495b498-47f9-400d-85a1-89b8474dc304",
   "metadata": {},
   "source": [
    "### Comparing base DistilBERT vs fine-tuned DistilBERT\n",
    "\n",
    "The base model performs very poorly and doesn't show any ability to correctly classify the sentiment of reviews, while the fine-tuned model performs very well, correctly classifying reviews 81% of the time.\n",
    "\n",
    "The fine-tuned model produces more false positives which is likely a side effect of the base model almost always predicting that the reviews were positive. "
   ]
  },
  {
   "cell_type": "markdown",
   "id": "8a793007-91d8-4563-9297-1f2b979d30e8",
   "metadata": {},
   "source": [
    "# Classical Machine Learning Model: Random Forest\n"
   ]
  },
  {
   "cell_type": "code",
   "execution_count": 31,
   "id": "a94ce6c7-9459-4a56-8213-e547558a7071",
   "metadata": {},
   "outputs": [],
   "source": [
    "# Re-splitting data since we don't need validation set\n",
    "train, test= train_test_split(df, test_size=0.2, random_state=42)\n",
    "Xtrain, ytrain = train['review'], train['sentiment']\n",
    "Xtest, ytest = test['review'], test['sentiment']"
   ]
  },
  {
   "cell_type": "code",
   "execution_count": 34,
   "id": "e1c59978-a06b-4fea-af0d-6d621665bfcb",
   "metadata": {},
   "outputs": [],
   "source": [
    "# Encoding data for Random Forest\n",
    "tfidf_vect = TfidfVectorizer() #tfidfVectorizer\n",
    "Xtrain_tfidf = tfidf_vect.fit_transform(Xtrain)\n",
    "Xtest_tfidf = tfidf_vect.transform(Xtest)\n",
    "\n",
    "\n",
    "count_vect = CountVectorizer() # CountVectorizer\n",
    "Xtrain_count = count_vect.fit_transform(Xtrain)\n",
    "Xtest_count = count_vect.transform(Xtest)"
   ]
  },
  {
   "cell_type": "code",
   "execution_count": 45,
   "id": "4a82d8a5-b2aa-4b11-8ab9-eae34ae6855d",
   "metadata": {},
   "outputs": [
    {
     "name": "stdout",
     "output_type": "stream",
     "text": [
      "Random Forest Classifier Accuracy : 85.01%\n"
     ]
    },
    {
     "data": {
      "image/png": "[encoded data removed]",
      "text/plain": [
       "<Figure size 640x480 with 2 Axes>"
      ]
     },
     "metadata": {},
     "output_type": "display_data"
    }
   ],
   "source": [
    "rf = RandomForestClassifier()\n",
    "rf.fit(Xtrain_tfidf, ytrain)\n",
    "p2=rf.predict(Xtest_tfidf)\n",
    "s2=accuracy_score(ytest,p2)\n",
    "print(\"Random Forest Classifier Accuracy :\", \"{:.2f}%\".format(100*s2))\n",
    "ConfusionMatrixDisplay.from_estimator(rf,Xtest_tfidf,ytest)\n",
    "#plot_confusion_matrix(rf, Xtest_tfidf, ytest,cmap = 'Blues')\n",
    "plt.grid(False)"
   ]
  },
  {
   "cell_type": "code",
   "execution_count": 50,
   "id": "4ce6a55e-2caf-4e54-bcf5-f5c4e638f4c4",
   "metadata": {},
   "outputs": [
    {
     "name": "stdout",
     "output_type": "stream",
     "text": [
      "[0 1 1 ... 1 0 0]\n",
      "              precision    recall  f1-score   support\n",
      "\n",
      "           0       0.85      0.85      0.85      4939\n",
      "           1       0.85      0.85      0.85      4978\n",
      "\n",
      "    accuracy                           0.85      9917\n",
      "   macro avg       0.85      0.85      0.85      9917\n",
      "weighted avg       0.85      0.85      0.85      9917\n",
      "\n"
     ]
    }
   ],
   "source": [
    "rf_report = classification_report(ytest, p2)\n",
    "print(rf_report)"
   ]
  },
  {
   "cell_type": "markdown",
   "id": "16c44d47-2e4a-4c41-8c5a-c8951c20da9a",
   "metadata": {},
   "source": [
    "# Time Complexity\n",
    "---\n",
    "### Random Forest vs. Base DistilBERT\n",
    "\n",
    "The base distilbert model took roughly the same amount of time to get running as the random forest classifier, but produced very bad results. This means there is no advantage to using the llm without fine-tuning.\n",
    "\n",
    "### Random Forest vs. Fine-tuned DistilBERT\n",
    "\n",
    "The random forest classifier (RF) performed better than the fine-tuned distilBERT model despite only taking roughly 2 minutes to train vs the 15+ minutes (4 hrs w/o gpu) of the fine-tuned distilBERT model.\n",
    "\n",
    "One thing to note is that in the preprocessing stage, we remove all non-descriptive words. Removing these words from the input data inherently gives RF an advantage, because llm's are better at looking at the context of a sentence to determine their output.\n",
    "\n",
    "It would be interesting to see the performance difference between a larger llm (or distilBERT with more training) and RF without the data preprocessing step that removes \"unnecessary\" words."
   ]
  },
  {
   "cell_type": "code",
   "execution_count": null,
   "id": "a15062d6-594e-4215-9bc3-980cda68c2d9",
   "metadata": {},
   "outputs": [],
   "source": []
  }
 ],
 "metadata": {
  "kernelspec": {
   "display_name": "Python 3 (ipykernel)",
   "language": "python",
   "name": "python3"
  },
  "language_info": {
   "codemirror_mode": {
    "name": "ipython",
    "version": 3
   },
   "file_extension": ".py",
   "mimetype": "text/x-python",
   "name": "python",
   "nbconvert_exporter": "python",
   "pygments_lexer": "ipython3",
   "version": "3.10.12"
  }
 },
 "nbformat": 4,
 "nbformat_minor": 5
}
